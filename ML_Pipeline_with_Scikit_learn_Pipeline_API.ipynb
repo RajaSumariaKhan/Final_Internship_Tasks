{
  "nbformat": 4,
  "nbformat_minor": 0,
  "metadata": {
    "colab": {
      "provenance": []
    },
    "kernelspec": {
      "name": "python3",
      "display_name": "Python 3"
    },
    "language_info": {
      "name": "python"
    }
  },
  "cells": [
    {
      "cell_type": "code",
      "source": [
        "import pandas as pd\n",
        "import numpy as np\n",
        "from sklearn.model_selection import train_test_split, GridSearchCV\n",
        "from sklearn.preprocessing import StandardScaler, OneHotEncoder\n",
        "from sklearn.compose import ColumnTransformer\n",
        "from sklearn.pipeline import Pipeline\n",
        "from sklearn.ensemble import RandomForestClassifier\n",
        "from sklearn.linear_model import LogisticRegression\n",
        "from sklearn.metrics import classification_report, accuracy_score\n",
        "from sklearn.impute import SimpleImputer\n",
        "import joblib\n",
        "\n",
        "# Clean, working dataset URL (ASCII hyphen)\n",
        "url = \"https://raw.githubusercontent.com/IBM/telco-customer-churn-on-icp4d/master/data/Telco-Customer-Churn.csv\"\n",
        "\n",
        "# Load the dataset\n",
        "df = pd.read_csv(url)\n",
        "\n",
        "# Basic cleaning\n",
        "df.drop(\"customerID\", axis=1, inplace=True)\n",
        "df[\"TotalCharges\"] = pd.to_numeric(df[\"TotalCharges\"].replace(\" \", np.nan), errors=\"coerce\")\n",
        "df[\"TotalCharges\"].fillna(df[\"TotalCharges\"].median(), inplace=True)\n",
        "\n",
        "# Feature & target separation\n",
        "X = df.drop(\"Churn\", axis=1)\n",
        "y = df[\"Churn\"].map({\"Yes\": 1, \"No\": 0})\n",
        "\n",
        "# Identify column types\n",
        "numerical_cols = X.select_dtypes(include=[\"int64\", \"float64\"]).columns.tolist()\n",
        "categorical_cols = X.select_dtypes(include=[\"object\"]).columns.tolist()\n",
        "\n",
        "# Preprocessing pipeline\n",
        "numeric_transformer = Pipeline(steps=[\n",
        "    ('imputer', SimpleImputer(strategy='median')),\n",
        "    ('scaler', StandardScaler())\n",
        "])\n",
        "\n",
        "categorical_transformer = Pipeline(steps=[\n",
        "    ('imputer', SimpleImputer(strategy='most_frequent')),\n",
        "    ('encoder', OneHotEncoder(handle_unknown='ignore'))\n",
        "])\n",
        "\n",
        "preprocessor = ColumnTransformer(transformers=[\n",
        "    ('num', numeric_transformer, numerical_cols),\n",
        "    ('cat', categorical_transformer, categorical_cols)\n",
        "])\n",
        "\n",
        "# Define models\n",
        "models = {\n",
        "    'logistic': LogisticRegression(max_iter=1000),\n",
        "    'random_forest': RandomForestClassifier(random_state=42)\n",
        "}\n",
        "\n",
        "pipelines = {\n",
        "    name: Pipeline(steps=[\n",
        "        ('preprocessor', preprocessor),\n",
        "        ('classifier', model)\n",
        "    ]) for name, model in models.items()\n",
        "}\n",
        "\n",
        "# Hyperparameter search space\n",
        "param_grids = {\n",
        "    'logistic': {\n",
        "        'classifier__C': [0.1, 1, 10],\n",
        "        'classifier__solver': ['liblinear']\n",
        "    },\n",
        "    'random_forest': {\n",
        "        'classifier__n_estimators': [50, 100],\n",
        "        'classifier__max_depth': [5, 10, None]\n",
        "    }\n",
        "}\n",
        "\n",
        "# Train-test split\n",
        "X_train, X_test, y_train, y_test = train_test_split(X, y, test_size=0.2, random_state=42)\n",
        "\n",
        "# Train and tune\n",
        "best_models = {}\n",
        "for name in pipelines:\n",
        "    print(f\"\\nTuning {name.upper()} model...\")\n",
        "    grid_search = GridSearchCV(pipelines[name], param_grids[name], cv=5, scoring='accuracy', n_jobs=-1)\n",
        "    grid_search.fit(X_train, y_train)\n",
        "    best_models[name] = grid_search.best_estimator_\n",
        "    print(f\"Best parameters for {name}: {grid_search.best_params_}\")\n",
        "    print(f\"Validation Accuracy: {grid_search.best_score_:.4f}\")\n",
        "\n",
        "# Final test evaluation (choose best-performing model)\n",
        "final_model = best_models['random_forest']  # or 'logistic'\n",
        "y_pred = final_model.predict(X_test)\n",
        "\n",
        "print(\"\\nFinal Test Set Evaluation:\")\n",
        "print(classification_report(y_test, y_pred))\n",
        "print(f\"Test Accuracy: {accuracy_score(y_test, y_pred):.4f}\")\n",
        "\n",
        "# Export the model pipeline\n",
        "joblib.dump(final_model, \"telco_churn_model.pkl\")\n",
        "print(\"\\nModel pipeline saved as 'telco_churn_model.pkl'\")\n"
      ],
      "metadata": {
        "colab": {
          "base_uri": "https://localhost:8080/"
        },
        "id": "q5yYmlpWCe-V",
        "outputId": "9470f9e1-3594-427b-dd06-3eed4e314a19"
      },
      "execution_count": 5,
      "outputs": [
        {
          "output_type": "stream",
          "name": "stdout",
          "text": [
            "\n",
            "Tuning LOGISTIC model...\n"
          ]
        },
        {
          "output_type": "stream",
          "name": "stderr",
          "text": [
            "/tmp/ipython-input-5-2755668623.py:22: FutureWarning: A value is trying to be set on a copy of a DataFrame or Series through chained assignment using an inplace method.\n",
            "The behavior will change in pandas 3.0. This inplace method will never work because the intermediate object on which we are setting values always behaves as a copy.\n",
            "\n",
            "For example, when doing 'df[col].method(value, inplace=True)', try using 'df.method({col: value}, inplace=True)' or df[col] = df[col].method(value) instead, to perform the operation inplace on the original object.\n",
            "\n",
            "\n",
            "  df[\"TotalCharges\"].fillna(df[\"TotalCharges\"].median(), inplace=True)\n"
          ]
        },
        {
          "output_type": "stream",
          "name": "stdout",
          "text": [
            "Best parameters for logistic: {'classifier__C': 1, 'classifier__solver': 'liblinear'}\n",
            "Validation Accuracy: 0.8016\n",
            "\n",
            "Tuning RANDOM_FOREST model...\n",
            "Best parameters for random_forest: {'classifier__max_depth': 10, 'classifier__n_estimators': 50}\n",
            "Validation Accuracy: 0.7980\n",
            "\n",
            "Final Test Set Evaluation:\n",
            "              precision    recall  f1-score   support\n",
            "\n",
            "           0       0.84      0.90      0.87      1036\n",
            "           1       0.66      0.52      0.58       373\n",
            "\n",
            "    accuracy                           0.80      1409\n",
            "   macro avg       0.75      0.71      0.73      1409\n",
            "weighted avg       0.79      0.80      0.79      1409\n",
            "\n",
            "Test Accuracy: 0.8027\n",
            "\n",
            "Model pipeline saved as 'telco_churn_model.pkl'\n"
          ]
        }
      ]
    }
  ]
}